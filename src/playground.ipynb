{
 "cells": [
  {
   "cell_type": "code",
   "execution_count": 1,
   "metadata": {
    "collapsed": true
   },
   "outputs": [],
   "source": [
    "import pandas as pd"
   ]
  },
  {
   "cell_type": "code",
   "execution_count": 2,
   "outputs": [],
   "source": [
    "DATA_DIR = \"../etc/data/\""
   ],
   "metadata": {
    "collapsed": false
   }
  },
  {
   "cell_type": "code",
   "execution_count": 3,
   "outputs": [],
   "source": [
    "data = pd.read_csv(DATA_DIR+\"auto93.csv\", skipinitialspace=True)"
   ],
   "metadata": {
    "collapsed": false
   }
  },
  {
   "cell_type": "code",
   "execution_count": 4,
   "outputs": [
    {
     "data": {
      "text/plain": "   Clndrs  Volume  HpX  Lbs-  Acc+  Model  origin  Mpg+\n0       8   304.0  193  4732  18.5     70       1    10\n1       8   360.0  215  4615  14.0     70       1    10\n2       8   307.0  200  4376  15.0     70       1    10\n3       8   318.0  210  4382  13.5     70       1    10\n4       8   429.0  208  4633  11.0     72       1    10",
      "text/html": "<div>\n<style scoped>\n    .dataframe tbody tr th:only-of-type {\n        vertical-align: middle;\n    }\n\n    .dataframe tbody tr th {\n        vertical-align: top;\n    }\n\n    .dataframe thead th {\n        text-align: right;\n    }\n</style>\n<table border=\"1\" class=\"dataframe\">\n  <thead>\n    <tr style=\"text-align: right;\">\n      <th></th>\n      <th>Clndrs</th>\n      <th>Volume</th>\n      <th>HpX</th>\n      <th>Lbs-</th>\n      <th>Acc+</th>\n      <th>Model</th>\n      <th>origin</th>\n      <th>Mpg+</th>\n    </tr>\n  </thead>\n  <tbody>\n    <tr>\n      <th>0</th>\n      <td>8</td>\n      <td>304.0</td>\n      <td>193</td>\n      <td>4732</td>\n      <td>18.5</td>\n      <td>70</td>\n      <td>1</td>\n      <td>10</td>\n    </tr>\n    <tr>\n      <th>1</th>\n      <td>8</td>\n      <td>360.0</td>\n      <td>215</td>\n      <td>4615</td>\n      <td>14.0</td>\n      <td>70</td>\n      <td>1</td>\n      <td>10</td>\n    </tr>\n    <tr>\n      <th>2</th>\n      <td>8</td>\n      <td>307.0</td>\n      <td>200</td>\n      <td>4376</td>\n      <td>15.0</td>\n      <td>70</td>\n      <td>1</td>\n      <td>10</td>\n    </tr>\n    <tr>\n      <th>3</th>\n      <td>8</td>\n      <td>318.0</td>\n      <td>210</td>\n      <td>4382</td>\n      <td>13.5</td>\n      <td>70</td>\n      <td>1</td>\n      <td>10</td>\n    </tr>\n    <tr>\n      <th>4</th>\n      <td>8</td>\n      <td>429.0</td>\n      <td>208</td>\n      <td>4633</td>\n      <td>11.0</td>\n      <td>72</td>\n      <td>1</td>\n      <td>10</td>\n    </tr>\n  </tbody>\n</table>\n</div>"
     },
     "execution_count": 4,
     "metadata": {},
     "output_type": "execute_result"
    }
   ],
   "source": [
    "data.head()"
   ],
   "metadata": {
    "collapsed": false
   }
  },
  {
   "cell_type": "code",
   "execution_count": 5,
   "outputs": [
    {
     "data": {
      "text/plain": "     Clndrs  Volume HpX  Lbs-  Acc+  Model  origin  Mpg+\n177       6   200.0   ?  2875  17.0     74       1    20\n206       4   151.0   ?  3035  20.5     82       1    20\n209       4   140.0   ?  2905  14.3     80       1    20\n232       4    98.0   ?  2046  19.0     71       1    30\n360       4   100.0   ?  2320  15.8     81       2    30\n390       4    85.0   ?  1835  17.3     80       2    40",
      "text/html": "<div>\n<style scoped>\n    .dataframe tbody tr th:only-of-type {\n        vertical-align: middle;\n    }\n\n    .dataframe tbody tr th {\n        vertical-align: top;\n    }\n\n    .dataframe thead th {\n        text-align: right;\n    }\n</style>\n<table border=\"1\" class=\"dataframe\">\n  <thead>\n    <tr style=\"text-align: right;\">\n      <th></th>\n      <th>Clndrs</th>\n      <th>Volume</th>\n      <th>HpX</th>\n      <th>Lbs-</th>\n      <th>Acc+</th>\n      <th>Model</th>\n      <th>origin</th>\n      <th>Mpg+</th>\n    </tr>\n  </thead>\n  <tbody>\n    <tr>\n      <th>177</th>\n      <td>6</td>\n      <td>200.0</td>\n      <td>?</td>\n      <td>2875</td>\n      <td>17.0</td>\n      <td>74</td>\n      <td>1</td>\n      <td>20</td>\n    </tr>\n    <tr>\n      <th>206</th>\n      <td>4</td>\n      <td>151.0</td>\n      <td>?</td>\n      <td>3035</td>\n      <td>20.5</td>\n      <td>82</td>\n      <td>1</td>\n      <td>20</td>\n    </tr>\n    <tr>\n      <th>209</th>\n      <td>4</td>\n      <td>140.0</td>\n      <td>?</td>\n      <td>2905</td>\n      <td>14.3</td>\n      <td>80</td>\n      <td>1</td>\n      <td>20</td>\n    </tr>\n    <tr>\n      <th>232</th>\n      <td>4</td>\n      <td>98.0</td>\n      <td>?</td>\n      <td>2046</td>\n      <td>19.0</td>\n      <td>71</td>\n      <td>1</td>\n      <td>30</td>\n    </tr>\n    <tr>\n      <th>360</th>\n      <td>4</td>\n      <td>100.0</td>\n      <td>?</td>\n      <td>2320</td>\n      <td>15.8</td>\n      <td>81</td>\n      <td>2</td>\n      <td>30</td>\n    </tr>\n    <tr>\n      <th>390</th>\n      <td>4</td>\n      <td>85.0</td>\n      <td>?</td>\n      <td>1835</td>\n      <td>17.3</td>\n      <td>80</td>\n      <td>2</td>\n      <td>40</td>\n    </tr>\n  </tbody>\n</table>\n</div>"
     },
     "execution_count": 5,
     "metadata": {},
     "output_type": "execute_result"
    }
   ],
   "source": [
    "data[data.values == '?']"
   ],
   "metadata": {
    "collapsed": false
   }
  },
  {
   "cell_type": "code",
   "execution_count": 7,
   "outputs": [],
   "source": [
    "data = data.replace(\"?\", None)"
   ],
   "metadata": {
    "collapsed": false
   }
  },
  {
   "cell_type": "code",
   "execution_count": 8,
   "outputs": [
    {
     "data": {
      "text/plain": "Empty DataFrame\nColumns: [Clndrs, Volume, HpX, Lbs-, Acc+, Model, origin, Mpg+]\nIndex: []",
      "text/html": "<div>\n<style scoped>\n    .dataframe tbody tr th:only-of-type {\n        vertical-align: middle;\n    }\n\n    .dataframe tbody tr th {\n        vertical-align: top;\n    }\n\n    .dataframe thead th {\n        text-align: right;\n    }\n</style>\n<table border=\"1\" class=\"dataframe\">\n  <thead>\n    <tr style=\"text-align: right;\">\n      <th></th>\n      <th>Clndrs</th>\n      <th>Volume</th>\n      <th>HpX</th>\n      <th>Lbs-</th>\n      <th>Acc+</th>\n      <th>Model</th>\n      <th>origin</th>\n      <th>Mpg+</th>\n    </tr>\n  </thead>\n  <tbody>\n  </tbody>\n</table>\n</div>"
     },
     "execution_count": 8,
     "metadata": {},
     "output_type": "execute_result"
    }
   ],
   "source": [
    "data[data.values == '?']"
   ],
   "metadata": {
    "collapsed": false
   }
  },
  {
   "cell_type": "code",
   "execution_count": 9,
   "outputs": [
    {
     "data": {
      "text/plain": "     Clndrs  Volume   HpX  Lbs-  Acc+  Model  origin  Mpg+\n177       6   200.0  None  2875  17.0     74       1    20\n206       4   151.0  None  3035  20.5     82       1    20\n209       4   140.0  None  2905  14.3     80       1    20\n232       4    98.0  None  2046  19.0     71       1    30\n360       4   100.0  None  2320  15.8     81       2    30\n390       4    85.0  None  1835  17.3     80       2    40",
      "text/html": "<div>\n<style scoped>\n    .dataframe tbody tr th:only-of-type {\n        vertical-align: middle;\n    }\n\n    .dataframe tbody tr th {\n        vertical-align: top;\n    }\n\n    .dataframe thead th {\n        text-align: right;\n    }\n</style>\n<table border=\"1\" class=\"dataframe\">\n  <thead>\n    <tr style=\"text-align: right;\">\n      <th></th>\n      <th>Clndrs</th>\n      <th>Volume</th>\n      <th>HpX</th>\n      <th>Lbs-</th>\n      <th>Acc+</th>\n      <th>Model</th>\n      <th>origin</th>\n      <th>Mpg+</th>\n    </tr>\n  </thead>\n  <tbody>\n    <tr>\n      <th>177</th>\n      <td>6</td>\n      <td>200.0</td>\n      <td>None</td>\n      <td>2875</td>\n      <td>17.0</td>\n      <td>74</td>\n      <td>1</td>\n      <td>20</td>\n    </tr>\n    <tr>\n      <th>206</th>\n      <td>4</td>\n      <td>151.0</td>\n      <td>None</td>\n      <td>3035</td>\n      <td>20.5</td>\n      <td>82</td>\n      <td>1</td>\n      <td>20</td>\n    </tr>\n    <tr>\n      <th>209</th>\n      <td>4</td>\n      <td>140.0</td>\n      <td>None</td>\n      <td>2905</td>\n      <td>14.3</td>\n      <td>80</td>\n      <td>1</td>\n      <td>20</td>\n    </tr>\n    <tr>\n      <th>232</th>\n      <td>4</td>\n      <td>98.0</td>\n      <td>None</td>\n      <td>2046</td>\n      <td>19.0</td>\n      <td>71</td>\n      <td>1</td>\n      <td>30</td>\n    </tr>\n    <tr>\n      <th>360</th>\n      <td>4</td>\n      <td>100.0</td>\n      <td>None</td>\n      <td>2320</td>\n      <td>15.8</td>\n      <td>81</td>\n      <td>2</td>\n      <td>30</td>\n    </tr>\n    <tr>\n      <th>390</th>\n      <td>4</td>\n      <td>85.0</td>\n      <td>None</td>\n      <td>1835</td>\n      <td>17.3</td>\n      <td>80</td>\n      <td>2</td>\n      <td>40</td>\n    </tr>\n  </tbody>\n</table>\n</div>"
     },
     "execution_count": 9,
     "metadata": {},
     "output_type": "execute_result"
    }
   ],
   "source": [
    "data[data.isnull().any(axis=1)]"
   ],
   "metadata": {
    "collapsed": false
   }
  },
  {
   "cell_type": "code",
   "execution_count": 10,
   "outputs": [],
   "source": [
    "data = data.dropna()"
   ],
   "metadata": {
    "collapsed": false
   }
  },
  {
   "cell_type": "code",
   "execution_count": 11,
   "outputs": [
    {
     "data": {
      "text/plain": "Empty DataFrame\nColumns: [Clndrs, Volume, HpX, Lbs-, Acc+, Model, origin, Mpg+]\nIndex: []",
      "text/html": "<div>\n<style scoped>\n    .dataframe tbody tr th:only-of-type {\n        vertical-align: middle;\n    }\n\n    .dataframe tbody tr th {\n        vertical-align: top;\n    }\n\n    .dataframe thead th {\n        text-align: right;\n    }\n</style>\n<table border=\"1\" class=\"dataframe\">\n  <thead>\n    <tr style=\"text-align: right;\">\n      <th></th>\n      <th>Clndrs</th>\n      <th>Volume</th>\n      <th>HpX</th>\n      <th>Lbs-</th>\n      <th>Acc+</th>\n      <th>Model</th>\n      <th>origin</th>\n      <th>Mpg+</th>\n    </tr>\n  </thead>\n  <tbody>\n  </tbody>\n</table>\n</div>"
     },
     "execution_count": 11,
     "metadata": {},
     "output_type": "execute_result"
    }
   ],
   "source": [
    "data[data.isnull().any(axis=1)]"
   ],
   "metadata": {
    "collapsed": false
   }
  },
  {
   "cell_type": "code",
   "execution_count": 12,
   "outputs": [
    {
     "data": {
      "text/plain": "Empty DataFrame\nColumns: [Clndrs, Volume, HpX, Lbs-, Acc+, Model, origin, Mpg+]\nIndex: []",
      "text/html": "<div>\n<style scoped>\n    .dataframe tbody tr th:only-of-type {\n        vertical-align: middle;\n    }\n\n    .dataframe tbody tr th {\n        vertical-align: top;\n    }\n\n    .dataframe thead th {\n        text-align: right;\n    }\n</style>\n<table border=\"1\" class=\"dataframe\">\n  <thead>\n    <tr style=\"text-align: right;\">\n      <th></th>\n      <th>Clndrs</th>\n      <th>Volume</th>\n      <th>HpX</th>\n      <th>Lbs-</th>\n      <th>Acc+</th>\n      <th>Model</th>\n      <th>origin</th>\n      <th>Mpg+</th>\n    </tr>\n  </thead>\n  <tbody>\n  </tbody>\n</table>\n</div>"
     },
     "execution_count": 12,
     "metadata": {},
     "output_type": "execute_result"
    }
   ],
   "source": [
    "data[data.values == '?']"
   ],
   "metadata": {
    "collapsed": false
   }
  },
  {
   "cell_type": "code",
   "execution_count": 13,
   "outputs": [
    {
     "data": {
      "text/plain": "   Clndrs  Volume  HpX  Lbs-  Acc+  Model  origin  Mpg+\n0       8   304.0  193  4732  18.5     70       1    10\n1       8   360.0  215  4615  14.0     70       1    10\n2       8   307.0  200  4376  15.0     70       1    10\n3       8   318.0  210  4382  13.5     70       1    10\n4       8   429.0  208  4633  11.0     72       1    10",
      "text/html": "<div>\n<style scoped>\n    .dataframe tbody tr th:only-of-type {\n        vertical-align: middle;\n    }\n\n    .dataframe tbody tr th {\n        vertical-align: top;\n    }\n\n    .dataframe thead th {\n        text-align: right;\n    }\n</style>\n<table border=\"1\" class=\"dataframe\">\n  <thead>\n    <tr style=\"text-align: right;\">\n      <th></th>\n      <th>Clndrs</th>\n      <th>Volume</th>\n      <th>HpX</th>\n      <th>Lbs-</th>\n      <th>Acc+</th>\n      <th>Model</th>\n      <th>origin</th>\n      <th>Mpg+</th>\n    </tr>\n  </thead>\n  <tbody>\n    <tr>\n      <th>0</th>\n      <td>8</td>\n      <td>304.0</td>\n      <td>193</td>\n      <td>4732</td>\n      <td>18.5</td>\n      <td>70</td>\n      <td>1</td>\n      <td>10</td>\n    </tr>\n    <tr>\n      <th>1</th>\n      <td>8</td>\n      <td>360.0</td>\n      <td>215</td>\n      <td>4615</td>\n      <td>14.0</td>\n      <td>70</td>\n      <td>1</td>\n      <td>10</td>\n    </tr>\n    <tr>\n      <th>2</th>\n      <td>8</td>\n      <td>307.0</td>\n      <td>200</td>\n      <td>4376</td>\n      <td>15.0</td>\n      <td>70</td>\n      <td>1</td>\n      <td>10</td>\n    </tr>\n    <tr>\n      <th>3</th>\n      <td>8</td>\n      <td>318.0</td>\n      <td>210</td>\n      <td>4382</td>\n      <td>13.5</td>\n      <td>70</td>\n      <td>1</td>\n      <td>10</td>\n    </tr>\n    <tr>\n      <th>4</th>\n      <td>8</td>\n      <td>429.0</td>\n      <td>208</td>\n      <td>4633</td>\n      <td>11.0</td>\n      <td>72</td>\n      <td>1</td>\n      <td>10</td>\n    </tr>\n  </tbody>\n</table>\n</div>"
     },
     "execution_count": 13,
     "metadata": {},
     "output_type": "execute_result"
    }
   ],
   "source": [
    "data.head()"
   ],
   "metadata": {
    "collapsed": false
   }
  },
  {
   "cell_type": "code",
   "execution_count": null,
   "outputs": [],
   "source": [],
   "metadata": {
    "collapsed": false
   }
  }
 ],
 "metadata": {
  "kernelspec": {
   "display_name": "Python 3",
   "language": "python",
   "name": "python3"
  },
  "language_info": {
   "codemirror_mode": {
    "name": "ipython",
    "version": 2
   },
   "file_extension": ".py",
   "mimetype": "text/x-python",
   "name": "python",
   "nbconvert_exporter": "python",
   "pygments_lexer": "ipython2",
   "version": "2.7.6"
  }
 },
 "nbformat": 4,
 "nbformat_minor": 0
}
