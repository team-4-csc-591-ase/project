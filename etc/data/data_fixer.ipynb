{
 "cells": [
  {
   "cell_type": "code",
   "execution_count": 1,
   "metadata": {
    "ExecuteTime": {
     "end_time": "2023-04-08T15:02:45.432788Z",
     "start_time": "2023-04-08T15:02:44.792038Z"
    }
   },
   "outputs": [],
   "source": [
    "import numpy as np\n",
    "import pandas as pd\n",
    "from sklearn.preprocessing import LabelEncoder"
   ]
  },
  {
   "cell_type": "markdown",
   "metadata": {},
   "source": [
    "## Fixer for auto2.csv"
   ]
  },
  {
   "cell_type": "code",
   "execution_count": 2,
   "metadata": {},
   "outputs": [],
   "source": [
    "df = pd.read_csv('auto2.csv', skipinitialspace=True)"
   ]
  },
  {
   "cell_type": "code",
   "execution_count": 3,
   "metadata": {},
   "outputs": [
    {
     "data": {
      "text/html": [
       "<div>\n",
       "<style scoped>\n",
       "    .dataframe tbody tr th:only-of-type {\n",
       "        vertical-align: middle;\n",
       "    }\n",
       "\n",
       "    .dataframe tbody tr th {\n",
       "        vertical-align: top;\n",
       "    }\n",
       "\n",
       "    .dataframe thead th {\n",
       "        text-align: right;\n",
       "    }\n",
       "</style>\n",
       "<table border=\"1\" class=\"dataframe\">\n",
       "  <thead>\n",
       "    <tr style=\"text-align: right;\">\n",
       "      <th></th>\n",
       "      <th>maker</th>\n",
       "      <th>type</th>\n",
       "      <th>CityMPG+</th>\n",
       "      <th>HighwayMPG+</th>\n",
       "      <th>Air_Bags_standard</th>\n",
       "      <th>Drive_train_type</th>\n",
       "      <th>Number_of_cylinders</th>\n",
       "      <th>Engine_size</th>\n",
       "      <th>Horsepower</th>\n",
       "      <th>RPM</th>\n",
       "      <th>...</th>\n",
       "      <th>Passenger_capacity</th>\n",
       "      <th>Length</th>\n",
       "      <th>Wheelbase</th>\n",
       "      <th>Width</th>\n",
       "      <th>U-turn_space</th>\n",
       "      <th>Rear_seat_room</th>\n",
       "      <th>Luggage_capacity</th>\n",
       "      <th>Weight-</th>\n",
       "      <th>domestic</th>\n",
       "      <th>Class-</th>\n",
       "    </tr>\n",
       "  </thead>\n",
       "  <tbody>\n",
       "    <tr>\n",
       "      <th>0</th>\n",
       "      <td>0</td>\n",
       "      <td>3</td>\n",
       "      <td>25</td>\n",
       "      <td>31</td>\n",
       "      <td>0</td>\n",
       "      <td>1</td>\n",
       "      <td>4.0</td>\n",
       "      <td>1.8</td>\n",
       "      <td>140</td>\n",
       "      <td>6300</td>\n",
       "      <td>...</td>\n",
       "      <td>5</td>\n",
       "      <td>177</td>\n",
       "      <td>102</td>\n",
       "      <td>68</td>\n",
       "      <td>37</td>\n",
       "      <td>26.5</td>\n",
       "      <td>11.0</td>\n",
       "      <td>2705</td>\n",
       "      <td>0</td>\n",
       "      <td>15.9</td>\n",
       "    </tr>\n",
       "    <tr>\n",
       "      <th>1</th>\n",
       "      <td>0</td>\n",
       "      <td>2</td>\n",
       "      <td>18</td>\n",
       "      <td>25</td>\n",
       "      <td>2</td>\n",
       "      <td>1</td>\n",
       "      <td>6.0</td>\n",
       "      <td>3.2</td>\n",
       "      <td>200</td>\n",
       "      <td>5500</td>\n",
       "      <td>...</td>\n",
       "      <td>5</td>\n",
       "      <td>195</td>\n",
       "      <td>115</td>\n",
       "      <td>71</td>\n",
       "      <td>38</td>\n",
       "      <td>30.0</td>\n",
       "      <td>15.0</td>\n",
       "      <td>3560</td>\n",
       "      <td>0</td>\n",
       "      <td>33.9</td>\n",
       "    </tr>\n",
       "    <tr>\n",
       "      <th>2</th>\n",
       "      <td>1</td>\n",
       "      <td>0</td>\n",
       "      <td>20</td>\n",
       "      <td>26</td>\n",
       "      <td>1</td>\n",
       "      <td>1</td>\n",
       "      <td>6.0</td>\n",
       "      <td>2.8</td>\n",
       "      <td>172</td>\n",
       "      <td>5500</td>\n",
       "      <td>...</td>\n",
       "      <td>5</td>\n",
       "      <td>180</td>\n",
       "      <td>102</td>\n",
       "      <td>67</td>\n",
       "      <td>37</td>\n",
       "      <td>28.0</td>\n",
       "      <td>14.0</td>\n",
       "      <td>3375</td>\n",
       "      <td>0</td>\n",
       "      <td>29.1</td>\n",
       "    </tr>\n",
       "    <tr>\n",
       "      <th>3</th>\n",
       "      <td>1</td>\n",
       "      <td>2</td>\n",
       "      <td>19</td>\n",
       "      <td>26</td>\n",
       "      <td>2</td>\n",
       "      <td>1</td>\n",
       "      <td>6.0</td>\n",
       "      <td>2.8</td>\n",
       "      <td>172</td>\n",
       "      <td>5500</td>\n",
       "      <td>...</td>\n",
       "      <td>6</td>\n",
       "      <td>193</td>\n",
       "      <td>106</td>\n",
       "      <td>70</td>\n",
       "      <td>37</td>\n",
       "      <td>31.0</td>\n",
       "      <td>17.0</td>\n",
       "      <td>3405</td>\n",
       "      <td>0</td>\n",
       "      <td>37.7</td>\n",
       "    </tr>\n",
       "    <tr>\n",
       "      <th>4</th>\n",
       "      <td>2</td>\n",
       "      <td>2</td>\n",
       "      <td>22</td>\n",
       "      <td>30</td>\n",
       "      <td>1</td>\n",
       "      <td>0</td>\n",
       "      <td>4.0</td>\n",
       "      <td>3.5</td>\n",
       "      <td>208</td>\n",
       "      <td>5700</td>\n",
       "      <td>...</td>\n",
       "      <td>4</td>\n",
       "      <td>186</td>\n",
       "      <td>109</td>\n",
       "      <td>69</td>\n",
       "      <td>39</td>\n",
       "      <td>27.0</td>\n",
       "      <td>13.0</td>\n",
       "      <td>3640</td>\n",
       "      <td>0</td>\n",
       "      <td>30.0</td>\n",
       "    </tr>\n",
       "  </tbody>\n",
       "</table>\n",
       "<p>5 rows × 23 columns</p>\n",
       "</div>"
      ],
      "text/plain": [
       "   maker  type  CityMPG+  HighwayMPG+  Air_Bags_standard  Drive_train_type   \n",
       "0      0     3        25           31                  0                 1  \\\n",
       "1      0     2        18           25                  2                 1   \n",
       "2      1     0        20           26                  1                 1   \n",
       "3      1     2        19           26                  2                 1   \n",
       "4      2     2        22           30                  1                 0   \n",
       "\n",
       "   Number_of_cylinders  Engine_size  Horsepower   RPM  ...   \n",
       "0                  4.0          1.8         140  6300  ...  \\\n",
       "1                  6.0          3.2         200  5500  ...   \n",
       "2                  6.0          2.8         172  5500  ...   \n",
       "3                  6.0          2.8         172  5500  ...   \n",
       "4                  4.0          3.5         208  5700  ...   \n",
       "\n",
       "   Passenger_capacity  Length  Wheelbase  Width  U-turn_space  Rear_seat_room   \n",
       "0                   5     177        102     68            37            26.5  \\\n",
       "1                   5     195        115     71            38            30.0   \n",
       "2                   5     180        102     67            37            28.0   \n",
       "3                   6     193        106     70            37            31.0   \n",
       "4                   4     186        109     69            39            27.0   \n",
       "\n",
       "   Luggage_capacity  Weight-  domestic  Class-  \n",
       "0              11.0     2705         0    15.9  \n",
       "1              15.0     3560         0    33.9  \n",
       "2              14.0     3375         0    29.1  \n",
       "3              17.0     3405         0    37.7  \n",
       "4              13.0     3640         0    30.0  \n",
       "\n",
       "[5 rows x 23 columns]"
      ]
     },
     "execution_count": 3,
     "metadata": {},
     "output_type": "execute_result"
    }
   ],
   "source": [
    "df.head()"
   ]
  },
  {
   "cell_type": "code",
   "execution_count": 4,
   "metadata": {},
   "outputs": [],
   "source": [
    "df = df.replace('?', np.nan)"
   ]
  },
  {
   "cell_type": "code",
   "execution_count": 5,
   "metadata": {},
   "outputs": [
    {
     "data": {
      "text/plain": [
       "maker                            0\n",
       "type                             0\n",
       "CityMPG+                         0\n",
       "HighwayMPG+                      0\n",
       "Air_Bags_standard                0\n",
       "Drive_train_type                 0\n",
       "Number_of_cylinders              0\n",
       "Engine_size                      0\n",
       "Horsepower                       0\n",
       "RPM                              0\n",
       "Engine_revolutions_per_mile      0\n",
       "manual_transmission_available    0\n",
       "Fuel_tank_capacity               0\n",
       "Passenger_capacity               0\n",
       "Length                           0\n",
       "Wheelbase                        0\n",
       "Width                            0\n",
       "U-turn_space                     0\n",
       "Rear_seat_room                   0\n",
       "Luggage_capacity                 0\n",
       "Weight-                          0\n",
       "domestic                         0\n",
       "Class-                           0\n",
       "dtype: int64"
      ]
     },
     "execution_count": 5,
     "metadata": {},
     "output_type": "execute_result"
    }
   ],
   "source": [
    "df.isna().sum()"
   ]
  },
  {
   "cell_type": "code",
   "execution_count": 6,
   "metadata": {},
   "outputs": [],
   "source": [
    "df['Number_of_cylinders'] = pd.to_numeric(df['Number_of_cylinders'], errors='coerce')\n",
    "df['Rear_seat_room'] = pd.to_numeric(df['Rear_seat_room'], errors='coerce')\n",
    "df['Luggage_capacity'] = pd.to_numeric(df['Luggage_capacity'], errors='coerce')"
   ]
  },
  {
   "cell_type": "code",
   "execution_count": 7,
   "metadata": {},
   "outputs": [],
   "source": [
    "df = df.fillna(df.mean())"
   ]
  },
  {
   "cell_type": "code",
   "execution_count": 8,
   "metadata": {},
   "outputs": [],
   "source": [
    "le = LabelEncoder()\n",
    "df['maker'] = le.fit_transform(df['maker'])\n",
    "df['type'] = le.fit_transform(df['type'])"
   ]
  },
  {
   "cell_type": "code",
   "execution_count": 9,
   "metadata": {},
   "outputs": [],
   "source": [
    "# df.to_csv('auto2.csv', index=False)"
   ]
  },
  {
   "cell_type": "markdown",
   "metadata": {},
   "source": [
    "## Fixer for healthCloseIsses12mths0001-hard.csv"
   ]
  },
  {
   "cell_type": "code",
   "execution_count": 9,
   "metadata": {
    "ExecuteTime": {
     "end_time": "2023-04-08T15:04:48.160554Z",
     "start_time": "2023-04-08T15:04:48.141882Z"
    }
   },
   "outputs": [],
   "source": [
    "df2 = pd.read_csv('healthCloseIsses12mths0011-easy.csv', skipinitialspace=True)"
   ]
  },
  {
   "cell_type": "code",
   "execution_count": 11,
   "metadata": {},
   "outputs": [],
   "source": [
    "le = LabelEncoder()\n",
    "df2['criterion'] = le.fit_transform(df2['criterion'])"
   ]
  },
  {
   "cell_type": "code",
   "execution_count": 10,
   "metadata": {
    "ExecuteTime": {
     "end_time": "2023-04-08T15:04:51.525849Z",
     "start_time": "2023-04-08T15:04:51.501229Z"
    }
   },
   "outputs": [
    {
     "data": {
      "text/html": [
       "<div>\n",
       "<style scoped>\n",
       "    .dataframe tbody tr th:only-of-type {\n",
       "        vertical-align: middle;\n",
       "    }\n",
       "\n",
       "    .dataframe tbody tr th {\n",
       "        vertical-align: top;\n",
       "    }\n",
       "\n",
       "    .dataframe thead th {\n",
       "        text-align: right;\n",
       "    }\n",
       "</style>\n",
       "<table border=\"1\" class=\"dataframe\">\n",
       "  <thead>\n",
       "    <tr style=\"text-align: right;\">\n",
       "      <th></th>\n",
       "      <th>Unnamed: 0</th>\n",
       "      <th>MRE-</th>\n",
       "      <th>ACC+</th>\n",
       "      <th>PRED40+</th>\n",
       "      <th>N_estimators</th>\n",
       "      <th>criterion</th>\n",
       "      <th>Min_sample_leaves</th>\n",
       "      <th>Min_impurity_decrease</th>\n",
       "      <th>Max_depth</th>\n",
       "    </tr>\n",
       "  </thead>\n",
       "  <tbody>\n",
       "    <tr>\n",
       "      <th>0</th>\n",
       "      <td>0</td>\n",
       "      <td>121.50</td>\n",
       "      <td>-13.07</td>\n",
       "      <td>0.0</td>\n",
       "      <td>40</td>\n",
       "      <td>2</td>\n",
       "      <td>3</td>\n",
       "      <td>2.75</td>\n",
       "      <td>10</td>\n",
       "    </tr>\n",
       "    <tr>\n",
       "      <th>1</th>\n",
       "      <td>1</td>\n",
       "      <td>119.61</td>\n",
       "      <td>-12.35</td>\n",
       "      <td>0.0</td>\n",
       "      <td>190</td>\n",
       "      <td>2</td>\n",
       "      <td>18</td>\n",
       "      <td>4.25</td>\n",
       "      <td>6</td>\n",
       "    </tr>\n",
       "    <tr>\n",
       "      <th>2</th>\n",
       "      <td>2</td>\n",
       "      <td>118.51</td>\n",
       "      <td>-11.90</td>\n",
       "      <td>0.0</td>\n",
       "      <td>130</td>\n",
       "      <td>2</td>\n",
       "      <td>1</td>\n",
       "      <td>0.75</td>\n",
       "      <td>15</td>\n",
       "    </tr>\n",
       "    <tr>\n",
       "      <th>3</th>\n",
       "      <td>3</td>\n",
       "      <td>120.71</td>\n",
       "      <td>-12.77</td>\n",
       "      <td>0.0</td>\n",
       "      <td>170</td>\n",
       "      <td>2</td>\n",
       "      <td>17</td>\n",
       "      <td>4.25</td>\n",
       "      <td>13</td>\n",
       "    </tr>\n",
       "    <tr>\n",
       "      <th>4</th>\n",
       "      <td>4</td>\n",
       "      <td>100.56</td>\n",
       "      <td>-0.55</td>\n",
       "      <td>0.0</td>\n",
       "      <td>180</td>\n",
       "      <td>0</td>\n",
       "      <td>17</td>\n",
       "      <td>6.75</td>\n",
       "      <td>14</td>\n",
       "    </tr>\n",
       "  </tbody>\n",
       "</table>\n",
       "</div>"
      ],
      "text/plain": [
       "   Unnamed: 0    MRE-   ACC+  PRED40+  N_estimators  criterion  \\\n",
       "0           0  121.50 -13.07      0.0            40          2   \n",
       "1           1  119.61 -12.35      0.0           190          2   \n",
       "2           2  118.51 -11.90      0.0           130          2   \n",
       "3           3  120.71 -12.77      0.0           170          2   \n",
       "4           4  100.56  -0.55      0.0           180          0   \n",
       "\n",
       "   Min_sample_leaves  Min_impurity_decrease  Max_depth  \n",
       "0                  3                   2.75         10  \n",
       "1                 18                   4.25          6  \n",
       "2                  1                   0.75         15  \n",
       "3                 17                   4.25         13  \n",
       "4                 17                   6.75         14  "
      ]
     },
     "execution_count": 10,
     "metadata": {},
     "output_type": "execute_result"
    }
   ],
   "source": [
    "df2.head()"
   ]
  },
  {
   "cell_type": "code",
   "execution_count": 11,
   "metadata": {
    "ExecuteTime": {
     "end_time": "2023-04-08T15:04:53.353956Z",
     "start_time": "2023-04-08T15:04:53.348718Z"
    }
   },
   "outputs": [
    {
     "data": {
      "text/plain": [
       "Index(['Unnamed: 0', 'MRE-', 'ACC+', 'PRED40+', 'N_estimators', 'criterion',\n",
       "       'Min_sample_leaves', 'Min_impurity_decrease', 'Max_depth'],\n",
       "      dtype='object')"
      ]
     },
     "execution_count": 11,
     "metadata": {},
     "output_type": "execute_result"
    }
   ],
   "source": [
    "df2.columns"
   ]
  },
  {
   "cell_type": "code",
   "execution_count": 12,
   "metadata": {
    "ExecuteTime": {
     "end_time": "2023-04-08T15:04:55.112796Z",
     "start_time": "2023-04-08T15:04:55.107215Z"
    }
   },
   "outputs": [],
   "source": [
    "df2.drop(columns={'Unnamed: 0'}, inplace=True)"
   ]
  },
  {
   "cell_type": "code",
   "execution_count": 13,
   "metadata": {
    "ExecuteTime": {
     "end_time": "2023-04-08T15:04:56.383767Z",
     "start_time": "2023-04-08T15:04:56.379826Z"
    }
   },
   "outputs": [
    {
     "data": {
      "text/plain": [
       "Index(['MRE-', 'ACC+', 'PRED40+', 'N_estimators', 'criterion',\n",
       "       'Min_sample_leaves', 'Min_impurity_decrease', 'Max_depth'],\n",
       "      dtype='object')"
      ]
     },
     "execution_count": 13,
     "metadata": {},
     "output_type": "execute_result"
    }
   ],
   "source": [
    "df2.columns"
   ]
  },
  {
   "cell_type": "code",
   "execution_count": 14,
   "metadata": {
    "ExecuteTime": {
     "end_time": "2023-04-08T15:05:05.065533Z",
     "start_time": "2023-04-08T15:05:05.018302Z"
    }
   },
   "outputs": [],
   "source": [
    "# df2.to_csv('healthCloseIsses12mths0011-easy.csv', index=False)"
   ]
  },
  {
   "cell_type": "markdown",
   "metadata": {},
   "source": [
    "## Fixer for healthCloseIsses12mths0011-easy.csv"
   ]
  },
  {
   "cell_type": "code",
   "execution_count": 21,
   "metadata": {
    "ExecuteTime": {
     "end_time": "2023-04-08T15:38:34.184326Z",
     "start_time": "2023-04-08T15:38:34.171037Z"
    }
   },
   "outputs": [],
   "source": [
    "df3 = pd.read_csv('healthCloseIsses12mths0011-easy.csv', skipinitialspace=True)\n"
   ]
  },
  {
   "cell_type": "code",
   "execution_count": 14,
   "metadata": {},
   "outputs": [],
   "source": [
    "le = LabelEncoder()\n",
    "df3['criterion'] = le.fit_transform(df3['criterion'])"
   ]
  },
  {
   "cell_type": "code",
   "execution_count": 23,
   "metadata": {
    "ExecuteTime": {
     "end_time": "2023-04-08T15:38:47.966166Z",
     "start_time": "2023-04-08T15:38:47.960160Z"
    }
   },
   "outputs": [
    {
     "name": "stdout",
     "output_type": "stream",
     "text": [
      "<class 'pandas.core.frame.DataFrame'>\n",
      "RangeIndex: 10000 entries, 0 to 9999\n",
      "Data columns (total 8 columns):\n",
      " #   Column                 Non-Null Count  Dtype  \n",
      "---  ------                 --------------  -----  \n",
      " 0   MRE-                   10000 non-null  float64\n",
      " 1   ACC+                   10000 non-null  float64\n",
      " 2   PRED40+                10000 non-null  float64\n",
      " 3   N_estimators           10000 non-null  int64  \n",
      " 4   criterion              10000 non-null  int64  \n",
      " 5   Min_sample_leaves      10000 non-null  int64  \n",
      " 6   Min_impurity_decrease  10000 non-null  float64\n",
      " 7   Max_depth              10000 non-null  int64  \n",
      "dtypes: float64(4), int64(4)\n",
      "memory usage: 625.1 KB\n"
     ]
    }
   ],
   "source": [
    "df3.info()"
   ]
  },
  {
   "cell_type": "code",
   "execution_count": 24,
   "metadata": {
    "ExecuteTime": {
     "end_time": "2023-04-08T15:39:14.319579Z",
     "start_time": "2023-04-08T15:39:14.311645Z"
    }
   },
   "outputs": [],
   "source": [
    "# df3 = df3.apply(pd.to_numeric)"
   ]
  },
  {
   "cell_type": "code",
   "execution_count": 25,
   "metadata": {
    "ExecuteTime": {
     "end_time": "2023-04-08T15:39:23.495673Z",
     "start_time": "2023-04-08T15:39:23.487358Z"
    }
   },
   "outputs": [
    {
     "name": "stdout",
     "output_type": "stream",
     "text": [
      "<class 'pandas.core.frame.DataFrame'>\n",
      "RangeIndex: 10000 entries, 0 to 9999\n",
      "Data columns (total 8 columns):\n",
      " #   Column                 Non-Null Count  Dtype  \n",
      "---  ------                 --------------  -----  \n",
      " 0   MRE-                   10000 non-null  float64\n",
      " 1   ACC+                   10000 non-null  float64\n",
      " 2   PRED40+                10000 non-null  float64\n",
      " 3   N_estimators           10000 non-null  int64  \n",
      " 4   criterion              10000 non-null  int64  \n",
      " 5   Min_sample_leaves      10000 non-null  int64  \n",
      " 6   Min_impurity_decrease  10000 non-null  float64\n",
      " 7   Max_depth              10000 non-null  int64  \n",
      "dtypes: float64(4), int64(4)\n",
      "memory usage: 625.1 KB\n"
     ]
    }
   ],
   "source": [
    "# df3.info()"
   ]
  },
  {
   "cell_type": "code",
   "execution_count": 15,
   "metadata": {},
   "outputs": [],
   "source": [
    "# df3.to_csv('healthCloseIsses12mths0011-easy.csv'. index=False)"
   ]
  },
  {
   "cell_type": "markdown",
   "metadata": {},
   "source": [
    "## Fixer for Auto93"
   ]
  },
  {
   "cell_type": "code",
   "execution_count": 16,
   "metadata": {},
   "outputs": [],
   "source": [
    "df = pd.read_csv('auto93.csv', skipinitialspace=True)\n"
   ]
  },
  {
   "cell_type": "code",
   "execution_count": 17,
   "metadata": {},
   "outputs": [
    {
     "data": {
      "text/html": [
       "<div>\n",
       "<style scoped>\n",
       "    .dataframe tbody tr th:only-of-type {\n",
       "        vertical-align: middle;\n",
       "    }\n",
       "\n",
       "    .dataframe tbody tr th {\n",
       "        vertical-align: top;\n",
       "    }\n",
       "\n",
       "    .dataframe thead th {\n",
       "        text-align: right;\n",
       "    }\n",
       "</style>\n",
       "<table border=\"1\" class=\"dataframe\">\n",
       "  <thead>\n",
       "    <tr style=\"text-align: right;\">\n",
       "      <th></th>\n",
       "      <th>Clndrs</th>\n",
       "      <th>Volume</th>\n",
       "      <th>HpX</th>\n",
       "      <th>Lbs-</th>\n",
       "      <th>Acc+</th>\n",
       "      <th>Model</th>\n",
       "      <th>origin</th>\n",
       "      <th>Mpg+</th>\n",
       "    </tr>\n",
       "  </thead>\n",
       "  <tbody>\n",
       "    <tr>\n",
       "      <th>0</th>\n",
       "      <td>8</td>\n",
       "      <td>304.0</td>\n",
       "      <td>193.0</td>\n",
       "      <td>4732</td>\n",
       "      <td>18.5</td>\n",
       "      <td>70</td>\n",
       "      <td>1</td>\n",
       "      <td>10</td>\n",
       "    </tr>\n",
       "    <tr>\n",
       "      <th>1</th>\n",
       "      <td>8</td>\n",
       "      <td>360.0</td>\n",
       "      <td>215.0</td>\n",
       "      <td>4615</td>\n",
       "      <td>14.0</td>\n",
       "      <td>70</td>\n",
       "      <td>1</td>\n",
       "      <td>10</td>\n",
       "    </tr>\n",
       "    <tr>\n",
       "      <th>2</th>\n",
       "      <td>8</td>\n",
       "      <td>307.0</td>\n",
       "      <td>200.0</td>\n",
       "      <td>4376</td>\n",
       "      <td>15.0</td>\n",
       "      <td>70</td>\n",
       "      <td>1</td>\n",
       "      <td>10</td>\n",
       "    </tr>\n",
       "    <tr>\n",
       "      <th>3</th>\n",
       "      <td>8</td>\n",
       "      <td>318.0</td>\n",
       "      <td>210.0</td>\n",
       "      <td>4382</td>\n",
       "      <td>13.5</td>\n",
       "      <td>70</td>\n",
       "      <td>1</td>\n",
       "      <td>10</td>\n",
       "    </tr>\n",
       "    <tr>\n",
       "      <th>4</th>\n",
       "      <td>8</td>\n",
       "      <td>429.0</td>\n",
       "      <td>208.0</td>\n",
       "      <td>4633</td>\n",
       "      <td>11.0</td>\n",
       "      <td>72</td>\n",
       "      <td>1</td>\n",
       "      <td>10</td>\n",
       "    </tr>\n",
       "  </tbody>\n",
       "</table>\n",
       "</div>"
      ],
      "text/plain": [
       "   Clndrs  Volume    HpX  Lbs-  Acc+  Model  origin  Mpg+\n",
       "0       8   304.0  193.0  4732  18.5     70       1    10\n",
       "1       8   360.0  215.0  4615  14.0     70       1    10\n",
       "2       8   307.0  200.0  4376  15.0     70       1    10\n",
       "3       8   318.0  210.0  4382  13.5     70       1    10\n",
       "4       8   429.0  208.0  4633  11.0     72       1    10"
      ]
     },
     "execution_count": 17,
     "metadata": {},
     "output_type": "execute_result"
    }
   ],
   "source": [
    "df.head()"
   ]
  },
  {
   "cell_type": "code",
   "execution_count": 18,
   "metadata": {},
   "outputs": [],
   "source": [
    "df = df.replace('?', np.nan)"
   ]
  },
  {
   "cell_type": "code",
   "execution_count": 19,
   "metadata": {},
   "outputs": [
    {
     "data": {
      "text/plain": [
       "Clndrs    0\n",
       "Volume    0\n",
       "HpX       0\n",
       "Lbs-      0\n",
       "Acc+      0\n",
       "Model     0\n",
       "origin    0\n",
       "Mpg+      0\n",
       "dtype: int64"
      ]
     },
     "execution_count": 19,
     "metadata": {},
     "output_type": "execute_result"
    }
   ],
   "source": [
    "df.isna().sum()"
   ]
  },
  {
   "cell_type": "code",
   "execution_count": 20,
   "metadata": {},
   "outputs": [],
   "source": [
    "df['HpX'] = pd.to_numeric(df['HpX'], errors='coerce')"
   ]
  },
  {
   "cell_type": "code",
   "execution_count": 21,
   "metadata": {},
   "outputs": [],
   "source": [
    "df = df.fillna(df.mean())"
   ]
  },
  {
   "cell_type": "code",
   "execution_count": 22,
   "metadata": {},
   "outputs": [],
   "source": [
    "df.to_csv('auto93.csv', index=False)"
   ]
  },
  {
   "cell_type": "markdown",
   "metadata": {},
   "source": [
    "## Fixer for nasa93dem.csv"
   ]
  },
  {
   "cell_type": "code",
   "execution_count": 15,
   "metadata": {
    "ExecuteTime": {
     "end_time": "2023-04-08T15:25:08.897044Z",
     "start_time": "2023-04-08T15:25:08.885796Z"
    }
   },
   "outputs": [],
   "source": [
    "df = pd.read_csv(\"nasa93dem.csv\", skipinitialspace=True)"
   ]
  },
  {
   "cell_type": "code",
   "execution_count": 16,
   "metadata": {
    "ExecuteTime": {
     "end_time": "2023-04-08T15:25:12.119437Z",
     "start_time": "2023-04-08T15:25:12.112472Z"
    }
   },
   "outputs": [
    {
     "data": {
      "text/plain": [
       "Index(['idX', 'centerX', 'YearX', 'prec', 'flex', 'resl', 'team', 'pmat',\n",
       "       'rely', 'data', 'cplx', 'ruse', 'docu', 'time', 'stor', 'pvol', 'acap',\n",
       "       'pcap', 'pcon', 'apex', 'plex', 'ltex', 'tool', 'site', 'sced', 'Kloc+',\n",
       "       'Effort-', 'Defects-', 'Months-'],\n",
       "      dtype='object')"
      ]
     },
     "execution_count": 16,
     "metadata": {},
     "output_type": "execute_result"
    }
   ],
   "source": [
    "df.columns"
   ]
  },
  {
   "cell_type": "code",
   "execution_count": 17,
   "metadata": {
    "ExecuteTime": {
     "end_time": "2023-04-08T15:29:13.148008Z",
     "start_time": "2023-04-08T15:29:13.128075Z"
    }
   },
   "outputs": [],
   "source": [
    "le = LabelEncoder()\n",
    "df['prec'] = le.fit_transform(df['prec'])\n",
    "df['flex'] = le.fit_transform(df['flex'])\n",
    "df['resl'] = le.fit_transform(df['resl'])\n",
    "df['team'] = le.fit_transform(df['team'])\n",
    "df['pmat'] = le.fit_transform(df['pmat'])\n",
    "df['rely'] = le.fit_transform(df['rely'])\n",
    "df['data'] = le.fit_transform(df['data'])\n",
    "df['cplx'] = le.fit_transform(df['cplx'])\n",
    "df['ruse'] = le.fit_transform(df['ruse'])\n",
    "df['docu'] = le.fit_transform(df['docu'])\n",
    "df['time'] = le.fit_transform(df['time'])\n",
    "df['stor'] = le.fit_transform(df['stor'])\n",
    "df['pvol'] = le.fit_transform(df['pvol'])\n",
    "df['acap'] = le.fit_transform(df['acap'])\n",
    "df['pcap'] = le.fit_transform(df['pcap'])\n",
    "df['pcon'] = le.fit_transform(df['pcon'])\n",
    "df['apex'] = le.fit_transform(df['apex'])\n",
    "df['plex'] = le.fit_transform(df['plex'])\n",
    "df['ltex'] = le.fit_transform(df['ltex'])\n",
    "df['tool'] = le.fit_transform(df['tool'])\n",
    "df['site'] = le.fit_transform(df['site'])\n",
    "df['sced'] = le.fit_transform(df['sced'])"
   ]
  },
  {
   "cell_type": "code",
   "execution_count": 18,
   "metadata": {
    "ExecuteTime": {
     "end_time": "2023-04-08T15:29:35.083776Z",
     "start_time": "2023-04-08T15:29:35.070890Z"
    }
   },
   "outputs": [],
   "source": [
    "df.to_csv(\"nasa93dem.csv\", index=False)"
   ]
  },
  {
   "cell_type": "markdown",
   "metadata": {},
   "source": [
    "## Fixer for healthCloseIsses12mths0011-easy-2.csv"
   ]
  },
  {
   "cell_type": "code",
   "execution_count": 45,
   "metadata": {
    "ExecuteTime": {
     "end_time": "2023-04-08T15:46:00.846851Z",
     "start_time": "2023-04-08T15:46:00.814067Z"
    }
   },
   "outputs": [],
   "source": [
    "df3 = pd.read_csv('healthCloseIsses12mths0011-easy-2.csv', skipinitialspace=True)"
   ]
  },
  {
   "cell_type": "code",
   "execution_count": 46,
   "metadata": {
    "ExecuteTime": {
     "end_time": "2023-04-08T15:43:45.857071Z",
     "start_time": "2023-04-08T15:43:45.851567Z"
    }
   },
   "outputs": [
    {
     "data": {
      "text/plain": [
       "Index(['MRE-', 'ACC+', 'PRED40+', 'N_estimators', 'criterion',\n",
       "       'Min_sample_leaves', 'Min_impurity_decrease', 'Max_depth'],\n",
       "      dtype='object')"
      ]
     },
     "execution_count": 46,
     "metadata": {},
     "output_type": "execute_result"
    }
   ],
   "source": [
    "df3.columns"
   ]
  },
  {
   "cell_type": "code",
   "execution_count": 47,
   "metadata": {
    "ExecuteTime": {
     "end_time": "2023-04-08T15:44:13.710805Z",
     "start_time": "2023-04-08T15:44:13.695084Z"
    }
   },
   "outputs": [],
   "source": [
    "df3 = df3.rename(columns={'ACC+': 'ACC-'})"
   ]
  },
  {
   "cell_type": "code",
   "execution_count": 48,
   "metadata": {
    "ExecuteTime": {
     "end_time": "2023-04-08T15:45:44.748630Z",
     "start_time": "2023-04-08T15:45:44.745104Z"
    }
   },
   "outputs": [
    {
     "data": {
      "text/plain": [
       "Index(['MRE-', 'ACC-', 'PRED40+', 'N_estimators', 'criterion',\n",
       "       'Min_sample_leaves', 'Min_impurity_decrease', 'Max_depth'],\n",
       "      dtype='object')"
      ]
     },
     "execution_count": 48,
     "metadata": {},
     "output_type": "execute_result"
    }
   ],
   "source": [
    "df3.columns"
   ]
  },
  {
   "cell_type": "code",
   "execution_count": 50,
   "metadata": {},
   "outputs": [],
   "source": [
    "df3['ACC-'] = df3['ACC-'].apply(lambda x: x * -1)"
   ]
  },
  {
   "cell_type": "code",
   "execution_count": 51,
   "metadata": {
    "ExecuteTime": {
     "end_time": "2023-04-08T15:45:52.520872Z",
     "start_time": "2023-04-08T15:45:52.511865Z"
    }
   },
   "outputs": [
    {
     "data": {
      "text/html": [
       "<div>\n",
       "<style scoped>\n",
       "    .dataframe tbody tr th:only-of-type {\n",
       "        vertical-align: middle;\n",
       "    }\n",
       "\n",
       "    .dataframe tbody tr th {\n",
       "        vertical-align: top;\n",
       "    }\n",
       "\n",
       "    .dataframe thead th {\n",
       "        text-align: right;\n",
       "    }\n",
       "</style>\n",
       "<table border=\"1\" class=\"dataframe\">\n",
       "  <thead>\n",
       "    <tr style=\"text-align: right;\">\n",
       "      <th></th>\n",
       "      <th>MRE-</th>\n",
       "      <th>ACC-</th>\n",
       "      <th>PRED40+</th>\n",
       "      <th>N_estimators</th>\n",
       "      <th>criterion</th>\n",
       "      <th>Min_sample_leaves</th>\n",
       "      <th>Min_impurity_decrease</th>\n",
       "      <th>Max_depth</th>\n",
       "    </tr>\n",
       "  </thead>\n",
       "  <tbody>\n",
       "    <tr>\n",
       "      <th>0</th>\n",
       "      <td>121.50</td>\n",
       "      <td>13.07</td>\n",
       "      <td>0.0</td>\n",
       "      <td>40</td>\n",
       "      <td>2</td>\n",
       "      <td>3</td>\n",
       "      <td>2.75</td>\n",
       "      <td>10</td>\n",
       "    </tr>\n",
       "    <tr>\n",
       "      <th>1</th>\n",
       "      <td>119.61</td>\n",
       "      <td>12.35</td>\n",
       "      <td>0.0</td>\n",
       "      <td>190</td>\n",
       "      <td>2</td>\n",
       "      <td>18</td>\n",
       "      <td>4.25</td>\n",
       "      <td>6</td>\n",
       "    </tr>\n",
       "    <tr>\n",
       "      <th>2</th>\n",
       "      <td>118.51</td>\n",
       "      <td>11.90</td>\n",
       "      <td>0.0</td>\n",
       "      <td>130</td>\n",
       "      <td>2</td>\n",
       "      <td>1</td>\n",
       "      <td>0.75</td>\n",
       "      <td>15</td>\n",
       "    </tr>\n",
       "    <tr>\n",
       "      <th>3</th>\n",
       "      <td>120.71</td>\n",
       "      <td>12.77</td>\n",
       "      <td>0.0</td>\n",
       "      <td>170</td>\n",
       "      <td>2</td>\n",
       "      <td>17</td>\n",
       "      <td>4.25</td>\n",
       "      <td>13</td>\n",
       "    </tr>\n",
       "    <tr>\n",
       "      <th>4</th>\n",
       "      <td>100.56</td>\n",
       "      <td>0.55</td>\n",
       "      <td>0.0</td>\n",
       "      <td>180</td>\n",
       "      <td>0</td>\n",
       "      <td>17</td>\n",
       "      <td>6.75</td>\n",
       "      <td>14</td>\n",
       "    </tr>\n",
       "  </tbody>\n",
       "</table>\n",
       "</div>"
      ],
      "text/plain": [
       "     MRE-   ACC-  PRED40+  N_estimators  criterion  Min_sample_leaves  \\\n",
       "0  121.50  13.07      0.0            40          2                  3   \n",
       "1  119.61  12.35      0.0           190          2                 18   \n",
       "2  118.51  11.90      0.0           130          2                  1   \n",
       "3  120.71  12.77      0.0           170          2                 17   \n",
       "4  100.56   0.55      0.0           180          0                 17   \n",
       "\n",
       "   Min_impurity_decrease  Max_depth  \n",
       "0                   2.75         10  \n",
       "1                   4.25          6  \n",
       "2                   0.75         15  \n",
       "3                   4.25         13  \n",
       "4                   6.75         14  "
      ]
     },
     "execution_count": 51,
     "metadata": {},
     "output_type": "execute_result"
    }
   ],
   "source": [
    "df3.head()"
   ]
  },
  {
   "cell_type": "code",
   "execution_count": 52,
   "metadata": {},
   "outputs": [],
   "source": [
    "df3.to_csv(\"healthCloseIsses12mths0011-easy-2.csv\", index=False)"
   ]
  },
  {
   "cell_type": "code",
   "execution_count": null,
   "metadata": {},
   "outputs": [],
   "source": []
  }
 ],
 "metadata": {
  "kernelspec": {
   "display_name": "Python 3 (ipykernel)",
   "language": "python",
   "name": "python3"
  },
  "language_info": {
   "codemirror_mode": {
    "name": "ipython",
    "version": 3
   },
   "file_extension": ".py",
   "mimetype": "text/x-python",
   "name": "python",
   "nbconvert_exporter": "python",
   "pygments_lexer": "ipython3",
   "version": "3.11.2"
  }
 },
 "nbformat": 4,
 "nbformat_minor": 1
}
