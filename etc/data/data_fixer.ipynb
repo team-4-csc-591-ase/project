{
 "cells": [
  {
   "cell_type": "code",
   "execution_count": 40,
   "metadata": {
    "ExecuteTime": {
     "start_time": "2023-04-17T13:02:02.813588Z",
     "end_time": "2023-04-17T13:02:05.290913Z"
    }
   },
   "outputs": [],
   "source": [
    "import numpy as np\n",
    "import pandas as pd\n",
    "from sklearn.preprocessing import LabelEncoder"
   ]
  },
  {
   "cell_type": "markdown",
   "metadata": {},
   "source": [
    "## Fixer for auto2.csv"
   ]
  },
  {
   "cell_type": "code",
   "execution_count": 41,
   "metadata": {
    "ExecuteTime": {
     "start_time": "2023-04-17T13:02:02.827617Z",
     "end_time": "2023-04-17T13:02:05.295488Z"
    }
   },
   "outputs": [],
   "source": [
    "df = pd.read_csv('auto2.csv', skipinitialspace=True)"
   ]
  },
  {
   "cell_type": "code",
   "execution_count": 42,
   "metadata": {
    "ExecuteTime": {
     "start_time": "2023-04-17T13:02:02.827723Z",
     "end_time": "2023-04-17T13:02:05.305723Z"
    }
   },
   "outputs": [],
   "source": [
    "df.head()"
   ]
  },
  {
   "cell_type": "code",
   "execution_count": 43,
   "metadata": {
    "ExecuteTime": {
     "start_time": "2023-04-17T13:02:02.827751Z",
     "end_time": "2023-04-17T13:02:05.311785Z"
    }
   },
   "outputs": [],
   "source": [
    "df = df.replace('?', np.nan)"
   ]
  },
  {
   "cell_type": "code",
   "execution_count": 44,
   "metadata": {
    "ExecuteTime": {
     "start_time": "2023-04-17T13:02:02.827775Z",
     "end_time": "2023-04-17T13:02:05.332143Z"
    }
   },
   "outputs": [],
   "source": [
    "df.isna().sum()"
   ]
  },
  {
   "cell_type": "code",
   "execution_count": 45,
   "metadata": {
    "ExecuteTime": {
     "start_time": "2023-04-17T13:02:02.827796Z",
     "end_time": "2023-04-17T13:02:05.332398Z"
    }
   },
   "outputs": [],
   "source": [
    "df['Number_of_cylinders'] = pd.to_numeric(df['Number_of_cylinders'], errors='coerce')\n",
    "df['Rear_seat_room'] = pd.to_numeric(df['Rear_seat_room'], errors='coerce')\n",
    "df['Luggage_capacity'] = pd.to_numeric(df['Luggage_capacity'], errors='coerce')"
   ]
  },
  {
   "cell_type": "code",
   "execution_count": 46,
   "metadata": {
    "ExecuteTime": {
     "start_time": "2023-04-17T13:02:02.827819Z",
     "end_time": "2023-04-17T13:02:05.332897Z"
    }
   },
   "outputs": [],
   "source": [
    "df = df.fillna(df.mean())"
   ]
  },
  {
   "cell_type": "code",
   "execution_count": 47,
   "metadata": {
    "ExecuteTime": {
     "start_time": "2023-04-17T13:02:02.827839Z",
     "end_time": "2023-04-17T13:02:05.333012Z"
    }
   },
   "outputs": [],
   "source": [
    "le = LabelEncoder()\n",
    "df['maker'] = le.fit_transform(df['maker'])\n",
    "df['type'] = le.fit_transform(df['type'])"
   ]
  },
  {
   "cell_type": "code",
   "execution_count": 48,
   "metadata": {
    "ExecuteTime": {
     "start_time": "2023-04-17T13:02:02.827858Z",
     "end_time": "2023-04-17T13:02:05.333093Z"
    }
   },
   "outputs": [],
   "source": [
    "# df.to_csv('auto2.csv', index=False)"
   ]
  },
  {
   "cell_type": "markdown",
   "metadata": {},
   "source": [
    "## Fixer for healthCloseIsses12mths0001-hard.csv"
   ]
  },
  {
   "cell_type": "code",
   "execution_count": 49,
   "metadata": {
    "ExecuteTime": {
     "start_time": "2023-04-17T13:02:02.839671Z",
     "end_time": "2023-04-17T13:02:05.347556Z"
    }
   },
   "outputs": [],
   "source": [
    "df2 = pd.read_csv('healthCloseIsses12mths0011-easy.csv', skipinitialspace=True)"
   ]
  },
  {
   "cell_type": "code",
   "execution_count": 50,
   "metadata": {
    "ExecuteTime": {
     "start_time": "2023-04-17T13:02:02.839789Z",
     "end_time": "2023-04-17T13:02:05.351071Z"
    }
   },
   "outputs": [],
   "source": [
    "le = LabelEncoder()\n",
    "df2['criterion'] = le.fit_transform(df2['criterion'])"
   ]
  },
  {
   "cell_type": "code",
   "execution_count": 51,
   "metadata": {
    "ExecuteTime": {
     "start_time": "2023-04-17T13:02:02.839814Z",
     "end_time": "2023-04-17T13:02:05.354034Z"
    }
   },
   "outputs": [],
   "source": [
    "df2.head()"
   ]
  },
  {
   "cell_type": "code",
   "execution_count": 52,
   "metadata": {
    "ExecuteTime": {
     "start_time": "2023-04-17T13:02:02.839832Z",
     "end_time": "2023-04-17T13:02:05.365559Z"
    }
   },
   "outputs": [],
   "source": [
    "df2.columns"
   ]
  },
  {
   "cell_type": "code",
   "execution_count": 53,
   "metadata": {
    "ExecuteTime": {
     "end_time": "2023-04-08T15:04:55.112796Z",
     "start_time": "2023-04-08T15:04:55.107215Z"
    }
   },
   "outputs": [],
   "source": [
    "df2.drop(columns={'Unnamed: 0'}, inplace=True)"
   ]
  },
  {
   "cell_type": "code",
   "execution_count": null,
   "metadata": {
    "ExecuteTime": {
     "end_time": "2023-04-08T15:04:56.383767Z",
     "start_time": "2023-04-08T15:04:56.379826Z"
    }
   },
   "outputs": [],
   "source": [
    "df2.columns"
   ]
  },
  {
   "cell_type": "code",
   "execution_count": null,
   "metadata": {
    "ExecuteTime": {
     "end_time": "2023-04-08T15:05:05.065533Z",
     "start_time": "2023-04-08T15:05:05.018302Z"
    }
   },
   "outputs": [],
   "source": [
    "# df2.to_csv('healthCloseIsses12mths0011-easy.csv', index=False)"
   ]
  },
  {
   "cell_type": "markdown",
   "metadata": {},
   "source": [
    "## Fixer for healthCloseIsses12mths0011-easy.csv"
   ]
  },
  {
   "cell_type": "code",
   "execution_count": null,
   "metadata": {
    "ExecuteTime": {
     "end_time": "2023-04-08T15:38:34.184326Z",
     "start_time": "2023-04-08T15:38:34.171037Z"
    }
   },
   "outputs": [],
   "source": [
    "df3 = pd.read_csv('healthCloseIsses12mths0011-easy.csv', skipinitialspace=True)\n"
   ]
  },
  {
   "cell_type": "code",
   "execution_count": null,
   "metadata": {},
   "outputs": [],
   "source": [
    "le = LabelEncoder()\n",
    "df3['criterion'] = le.fit_transform(df3['criterion'])"
   ]
  },
  {
   "cell_type": "code",
   "execution_count": null,
   "metadata": {
    "ExecuteTime": {
     "end_time": "2023-04-08T15:38:47.966166Z",
     "start_time": "2023-04-08T15:38:47.960160Z"
    }
   },
   "outputs": [],
   "source": [
    "df3.info()"
   ]
  },
  {
   "cell_type": "code",
   "execution_count": null,
   "metadata": {
    "ExecuteTime": {
     "end_time": "2023-04-08T15:39:14.319579Z",
     "start_time": "2023-04-08T15:39:14.311645Z"
    }
   },
   "outputs": [],
   "source": [
    "# df3 = df3.apply(pd.to_numeric)"
   ]
  },
  {
   "cell_type": "code",
   "execution_count": null,
   "metadata": {
    "ExecuteTime": {
     "end_time": "2023-04-08T15:39:23.495673Z",
     "start_time": "2023-04-08T15:39:23.487358Z"
    }
   },
   "outputs": [],
   "source": [
    "# df3.info()"
   ]
  },
  {
   "cell_type": "code",
   "execution_count": null,
   "metadata": {},
   "outputs": [],
   "source": [
    "# df3.to_csv('healthCloseIsses12mths0011-easy.csv'. index=False)"
   ]
  },
  {
   "cell_type": "markdown",
   "metadata": {},
   "source": [
    "## Fixer for Auto93"
   ]
  },
  {
   "cell_type": "code",
   "execution_count": null,
   "metadata": {},
   "outputs": [],
   "source": [
    "df = pd.read_csv('auto93.csv', skipinitialspace=True)\n"
   ]
  },
  {
   "cell_type": "code",
   "execution_count": null,
   "metadata": {},
   "outputs": [],
   "source": [
    "df.head()"
   ]
  },
  {
   "cell_type": "code",
   "execution_count": null,
   "metadata": {},
   "outputs": [],
   "source": [
    "df = df.replace('?', np.nan)"
   ]
  },
  {
   "cell_type": "code",
   "execution_count": null,
   "metadata": {},
   "outputs": [],
   "source": [
    "df.isna().sum()"
   ]
  },
  {
   "cell_type": "code",
   "execution_count": null,
   "metadata": {},
   "outputs": [],
   "source": [
    "df['HpX'] = pd.to_numeric(df['HpX'], errors='coerce')"
   ]
  },
  {
   "cell_type": "code",
   "execution_count": null,
   "metadata": {},
   "outputs": [],
   "source": [
    "df = df.fillna(df.mean())"
   ]
  },
  {
   "cell_type": "code",
   "execution_count": null,
   "metadata": {},
   "outputs": [],
   "source": [
    "df.to_csv('auto93.csv', index=False)"
   ]
  },
  {
   "cell_type": "markdown",
   "metadata": {},
   "source": [
    "## Fixer for nasa93dem.csv"
   ]
  },
  {
   "cell_type": "code",
   "execution_count": null,
   "metadata": {
    "ExecuteTime": {
     "end_time": "2023-04-08T15:25:08.897044Z",
     "start_time": "2023-04-08T15:25:08.885796Z"
    }
   },
   "outputs": [],
   "source": [
    "df = pd.read_csv(\"nasa93dem.csv\", skipinitialspace=True)"
   ]
  },
  {
   "cell_type": "code",
   "execution_count": null,
   "metadata": {
    "ExecuteTime": {
     "end_time": "2023-04-08T15:25:12.119437Z",
     "start_time": "2023-04-08T15:25:12.112472Z"
    }
   },
   "outputs": [],
   "source": [
    "df.columns"
   ]
  },
  {
   "cell_type": "code",
   "execution_count": null,
   "metadata": {
    "ExecuteTime": {
     "end_time": "2023-04-08T15:29:13.148008Z",
     "start_time": "2023-04-08T15:29:13.128075Z"
    }
   },
   "outputs": [],
   "source": [
    "le = LabelEncoder()\n",
    "df['prec'] = le.fit_transform(df['prec'])\n",
    "df['flex'] = le.fit_transform(df['flex'])\n",
    "df['resl'] = le.fit_transform(df['resl'])\n",
    "df['team'] = le.fit_transform(df['team'])\n",
    "df['pmat'] = le.fit_transform(df['pmat'])\n",
    "df['rely'] = le.fit_transform(df['rely'])\n",
    "df['data'] = le.fit_transform(df['data'])\n",
    "df['cplx'] = le.fit_transform(df['cplx'])\n",
    "df['ruse'] = le.fit_transform(df['ruse'])\n",
    "df['docu'] = le.fit_transform(df['docu'])\n",
    "df['time'] = le.fit_transform(df['time'])\n",
    "df['stor'] = le.fit_transform(df['stor'])\n",
    "df['pvol'] = le.fit_transform(df['pvol'])\n",
    "df['acap'] = le.fit_transform(df['acap'])\n",
    "df['pcap'] = le.fit_transform(df['pcap'])\n",
    "df['pcon'] = le.fit_transform(df['pcon'])\n",
    "df['apex'] = le.fit_transform(df['apex'])\n",
    "df['plex'] = le.fit_transform(df['plex'])\n",
    "df['ltex'] = le.fit_transform(df['ltex'])\n",
    "df['tool'] = le.fit_transform(df['tool'])\n",
    "df['site'] = le.fit_transform(df['site'])\n",
    "df['sced'] = le.fit_transform(df['sced'])"
   ]
  },
  {
   "cell_type": "code",
   "execution_count": null,
   "metadata": {
    "ExecuteTime": {
     "end_time": "2023-04-08T15:29:35.083776Z",
     "start_time": "2023-04-08T15:29:35.070890Z"
    }
   },
   "outputs": [],
   "source": [
    "df.to_csv(\"nasa93dem.csv\", index=False)"
   ]
  },
  {
   "cell_type": "markdown",
   "metadata": {},
   "source": [
    "## Fixer for healthCloseIsses12mths0011-easy-2.csv"
   ]
  },
  {
   "cell_type": "code",
   "execution_count": null,
   "metadata": {
    "ExecuteTime": {
     "end_time": "2023-04-08T15:46:00.846851Z",
     "start_time": "2023-04-08T15:46:00.814067Z"
    }
   },
   "outputs": [],
   "source": [
    "df3 = pd.read_csv('healthCloseIsses12mths0011-easy-2.csv', skipinitialspace=True)"
   ]
  },
  {
   "cell_type": "code",
   "execution_count": null,
   "metadata": {
    "ExecuteTime": {
     "end_time": "2023-04-08T15:43:45.857071Z",
     "start_time": "2023-04-08T15:43:45.851567Z"
    }
   },
   "outputs": [],
   "source": [
    "df3.columns"
   ]
  },
  {
   "cell_type": "code",
   "execution_count": null,
   "metadata": {
    "ExecuteTime": {
     "end_time": "2023-04-08T15:44:13.710805Z",
     "start_time": "2023-04-08T15:44:13.695084Z"
    }
   },
   "outputs": [],
   "source": [
    "df3 = df3.rename(columns={'ACC+': 'ACC-'})"
   ]
  },
  {
   "cell_type": "code",
   "execution_count": null,
   "metadata": {
    "ExecuteTime": {
     "end_time": "2023-04-08T15:45:44.748630Z",
     "start_time": "2023-04-08T15:45:44.745104Z"
    }
   },
   "outputs": [],
   "source": [
    "df3.columns"
   ]
  },
  {
   "cell_type": "code",
   "execution_count": null,
   "metadata": {},
   "outputs": [],
   "source": [
    "df3['ACC-'] = df3['ACC-'].apply(lambda x: x * -1)"
   ]
  },
  {
   "cell_type": "code",
   "execution_count": null,
   "metadata": {
    "ExecuteTime": {
     "end_time": "2023-04-08T15:45:52.520872Z",
     "start_time": "2023-04-08T15:45:52.511865Z"
    }
   },
   "outputs": [],
   "source": [
    "df3.head()"
   ]
  },
  {
   "cell_type": "code",
   "execution_count": null,
   "metadata": {},
   "outputs": [],
   "source": [
    "df3.to_csv(\"healthCloseIsses12mths0011-easy-2.csv\", index=False)"
   ]
  },
  {
   "cell_type": "code",
   "execution_count": 56,
   "metadata": {
    "ExecuteTime": {
     "start_time": "2023-04-17T13:12:20.331424Z",
     "end_time": "2023-04-17T13:12:20.427727Z"
    }
   },
   "outputs": [],
   "source": [
    "import pandas as pd\n",
    "df =pd.read_csv(\"SSN.csv\")"
   ]
  },
  {
   "cell_type": "code",
   "execution_count": 57,
   "outputs": [],
   "source": [
    "df1= df.describe(percentiles=[], include='all').drop(['count'])"
   ],
   "metadata": {
    "collapsed": false,
    "ExecuteTime": {
     "start_time": "2023-04-17T13:12:20.857929Z",
     "end_time": "2023-04-17T13:12:20.901370Z"
    }
   }
  },
  {
   "cell_type": "code",
   "execution_count": null,
   "outputs": [],
   "source": [],
   "metadata": {
    "collapsed": false,
    "ExecuteTime": {
     "start_time": "2023-04-17T13:02:00.098047Z",
     "end_time": "2023-04-17T13:02:00.123752Z"
    }
   }
  },
  {
   "cell_type": "code",
   "execution_count": null,
   "outputs": [],
   "source": [],
   "metadata": {
    "collapsed": false
   }
  },
  {
   "cell_type": "code",
   "execution_count": null,
   "outputs": [],
   "source": [],
   "metadata": {
    "collapsed": false
   }
  },
  {
   "cell_type": "code",
   "execution_count": null,
   "outputs": [],
   "source": [],
   "metadata": {
    "collapsed": false
   }
  },
  {
   "cell_type": "code",
   "execution_count": null,
   "outputs": [],
   "source": [],
   "metadata": {
    "collapsed": false
   }
  }
 ],
 "metadata": {
  "kernelspec": {
   "display_name": "Python 3 (ipykernel)",
   "language": "python",
   "name": "python3"
  },
  "language_info": {
   "codemirror_mode": {
    "name": "ipython",
    "version": 3
   },
   "file_extension": ".py",
   "mimetype": "text/x-python",
   "name": "python",
   "nbconvert_exporter": "python",
   "pygments_lexer": "ipython3",
   "version": "3.11.2"
  }
 },
 "nbformat": 4,
 "nbformat_minor": 1
}
